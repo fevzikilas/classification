{
  "cells": [
    {
      "cell_type": "markdown",
      "id": "8172b8c3",
      "metadata": {
        "id": "8172b8c3"
      },
      "source": [
        "# Logistic Regression and Support Vector Machine classifier"
      ]
    },
    {
      "cell_type": "markdown",
      "id": "74b38c57",
      "metadata": {
        "id": "74b38c57"
      },
      "source": [
        "### 1. Logistic Regression\n",
        "The __logistic function__ (which is more commonly called __sigmoid function__) basically maps an input to an output of values between 0 and 1. And it is defined as follows:\n",
        "$$y(z) = \\frac{1}{1+ exp(-z)}$$\n",
        "\n",
        "We can visualize it as follows:\n",
        "\n",
        "\n",
        "First define the logistic function:"
      ]
    },
    {
      "cell_type": "code",
      "execution_count": null,
      "id": "f84b0657",
      "metadata": {
        "id": "f84b0657"
      },
      "outputs": [],
      "source": [
        "import numpy as np\n",
        "def sigmoid(input):\n",
        "    return 1.0 / (1 + np.exp(-input))"
      ]
    },
    {
      "cell_type": "code",
      "execution_count": null,
      "id": "11009b0a",
      "metadata": {
        "colab": {
          "base_uri": "https://localhost:8080/"
        },
        "id": "11009b0a",
        "outputId": "61205551-d6ae-4b56-bf0e-4c5c82350f91"
      },
      "outputs": [
        {
          "output_type": "display_data",
          "data": {
            "text/plain": [
              "<Figure size 640x480 with 1 Axes>"
            ],
            "image/png": "[encoded data removed]"
          },
          "metadata": {}
        }
      ],
      "source": [
        "# Input variables from -8 to 8, and the output correspondingly:\n",
        "z = np.linspace(-8, 8, 1000)\n",
        "y = sigmoid(z)\n",
        "import matplotlib.pyplot as plt\n",
        "plt.plot(z, y)\n",
        "plt.axhline(y=0, ls='dotted', color='k')\n",
        "plt.axhline(y=0.5, ls='dotted', color='k')\n",
        "plt.axhline(y=1, ls='dotted', color='k')\n",
        "plt.yticks([0.0, 0.25, 0.5, 0.75, 1.0])\n",
        "plt.xlabel('z')\n",
        "plt.ylabel('y(z)')\n",
        "plt.show()"
      ]
    },
    {
      "cell_type": "markdown",
      "id": "fbf12496",
      "metadata": {
        "id": "fbf12496"
      },
      "source": [
        "In the S-shaped curve, all inputs are transformed into the range from 0 to 1. For positive inputs, a greater value results in an output closer to 1; for negative inputs, a smaller value generates an output closer to 0; when the input is 0, the\n",
        "output is the midpoint 0.5."
      ]
    },
    {
      "cell_type": "markdown",
      "id": "4b5ab87f",
      "metadata": {
        "id": "4b5ab87f"
      },
      "source": [
        "Logistic regression, by default, is limited to two-class classification problems. It cannot be used for classification tasks that have more than two class labels, so-called multi-class classification. Instead, it requires modification to support multi-class classification problems.\n",
        "\n",
        "__The multinomial logistic regression__ (often just called 'multinomial regression') algorithm is an extension to the logistic regression model that involves changing the loss function to cross-entropy loss and predict probability distribution to a multinomial probability distribution to natively support multi-class classification problems."
      ]
    },
    {
      "cell_type": "markdown",
      "id": "dbfb9dad",
      "metadata": {
        "id": "dbfb9dad"
      },
      "source": [
        "### 2. Support Vector Machine\n",
        "\n",
        "Support Vector Machines (or SVM) seek a line that best separates two classes. Those data instances that are closest to the line that best separates the classes are called support vectors and influence where the line is placed. SVM has been extended to support multiple classes.Of particular importance is the use of different kernel functions via the kernel parameter.\n",
        "\n",
        "Kernels can be used that transform the input space into higher dimensions such as a Polynomial Kernel and a Radial Kernel. This is called the Kernel Trick. It is desirable to use more complex kernels as it allows lines to separate the classes that are curved or even more complex. This in turn can lead to more accurate classifiers."
      ]
    },
    {
      "cell_type": "markdown",
      "id": "8b2c396f",
      "metadata": {
        "id": "8b2c396f"
      },
      "source": [
        "Stratified k-fold cross-validation is a technique used to evaluate the performance of machine learning models, particularly in classification tasks, where the target class distribution may be imbalanced. In this method, the dataset is divided into 'k' equally sized folds, ensuring that each fold maintains a similar distribution of class examples as the entire dataset. This stratification process helps to reduce the bias and variance in model performance estimation by preventing a skewed distribution of classes in the train and test sets.\n",
        "\n",
        "During the cross-validation process, the model is trained on 'k-1' folds and tested on the remaining fold, iterating this process 'k' times. Each iteration uses a different fold for testing, and the average performance metric (e.g., accuracy) is calculated over all iterations.\n",
        "\n",
        "Here's a code example using the scikit-learn library:\n"
      ]
    },
    {
      "cell_type": "code",
      "execution_count": null,
      "id": "6ea38629",
      "metadata": {
        "colab": {
          "base_uri": "https://localhost:8080/"
        },
        "id": "6ea38629",
        "outputId": "6eaddd88-355f-4699-fdac-8e5ece2c0c2a"
      },
      "outputs": [
        {
          "output_type": "stream",
          "name": "stdout",
          "text": [
            "Mean accuracy: 0.9733333333333334\n"
          ]
        }
      ],
      "source": [
        "from sklearn.model_selection import StratifiedKFold\n",
        "from sklearn.datasets import load_iris\n",
        "from sklearn.linear_model import LogisticRegression\n",
        "from sklearn.preprocessing import OneHotEncoder\n",
        "\n",
        "import numpy as np\n",
        "\n",
        "# Load the dataset\n",
        "iris = load_iris()\n",
        "X, y = iris.data, iris.target\n",
        "\n",
        "# Initialize stratified k-fold cross-validation\n",
        "skf = StratifiedKFold(n_splits=5)  # Set the number of folds to 5\n",
        "\n",
        "# Initialize the logistic regression model\n",
        "model = LogisticRegression(solver='lbfgs', max_iter=1000)\n",
        "\n",
        "# Perform stratified k-fold cross-validation\n",
        "accuracy_scores = []\n",
        "for train_index, test_index in skf.split(X, y):\n",
        "    X_train, X_test = X[train_index], X[test_index]\n",
        "    y_train, y_test = y[train_index], y[test_index]\n",
        "\n",
        "    model.fit(X_train, y_train)\n",
        "    accuracy = model.score(X_test, y_test)\n",
        "    accuracy_scores.append(accuracy)\n",
        "\n",
        "# Calculate the mean accuracy\n",
        "mean_accuracy = np.mean(accuracy_scores)\n",
        "print(\"Mean accuracy:\", mean_accuracy)"
      ]
    },
    {
      "cell_type": "markdown",
      "id": "eb920e7a",
      "metadata": {
        "id": "eb920e7a"
      },
      "source": [
        "In this example, we use the Iris dataset and a logistic regression model to demonstrate stratified k-fold cross-validation with 5 folds. The performance of the model is evaluated using accuracy as the performance metric, and the mean accuracy is reported."
      ]
    },
    {
      "cell_type": "markdown",
      "id": "ab1422ff",
      "metadata": {
        "id": "ab1422ff"
      },
      "source": [
        "Stratified cross-validation is particularly useful when dealing with imbalanced datasets, where some classes have significantly fewer examples compared to others. In such cases, using standard cross-validation might lead to situations where one or more folds contain very few or even none of the underrepresented class instances. This could result in an inaccurate and biased performance estimation of the model, as the model is not adequately tested on all classes.\n",
        "\n",
        "For balanced datasets, where class distributions are roughly equal, stratified cross-validation may not provide significant benefits over standard cross-validation. However, it is still a good practice to use stratified cross-validation as a default approach, as it generally leads to more stable and reliable performance estimates."
      ]
    },
    {
      "cell_type": "markdown",
      "id": "f9b44813",
      "metadata": {
        "id": "f9b44813"
      },
      "source": [
        "__Evaluation Metrics__: Provide _mean weighted F1 scores_ and a confusion matrix to evaluate and compare the performance of the classification models.\n",
        "\n",
        "Here is an example code how to compute mean weighted F1 score in k-fold cross-validation setting:"
      ]
    },
    {
      "cell_type": "code",
      "execution_count": null,
      "id": "ac3236b0",
      "metadata": {
        "colab": {
          "base_uri": "https://localhost:8080/"
        },
        "id": "ac3236b0",
        "outputId": "fd1018c4-1fd6-4fb1-a2b4-6fa1b2071694"
      },
      "outputs": [
        {
          "output_type": "error",
          "ename": "NameError",
          "evalue": "ignored",
          "traceback": [
            "\u001b[0;31m---------------------------------------------------------------------------\u001b[0m",
            "\u001b[0;31mNameError\u001b[0m                                 Traceback (most recent call last)",
            "\u001b[0;32m<ipython-input-6-f45df9fe7738>\u001b[0m in \u001b[0;36m<cell line: 4>\u001b[0;34m()\u001b[0m\n\u001b[1;32m      2\u001b[0m \u001b[0;34m\u001b[0m\u001b[0m\n\u001b[1;32m      3\u001b[0m \u001b[0;31m# Perform k-fold stratified cross-validation\u001b[0m\u001b[0;34m\u001b[0m\u001b[0;34m\u001b[0m\u001b[0m\n\u001b[0;32m----> 4\u001b[0;31m \u001b[0;32mfor\u001b[0m \u001b[0mtrain_index\u001b[0m\u001b[0;34m,\u001b[0m \u001b[0mtest_index\u001b[0m \u001b[0;32min\u001b[0m \u001b[0mcv\u001b[0m\u001b[0;34m.\u001b[0m\u001b[0msplit\u001b[0m\u001b[0;34m(\u001b[0m\u001b[0mX\u001b[0m\u001b[0;34m,\u001b[0m \u001b[0my\u001b[0m\u001b[0;34m)\u001b[0m\u001b[0;34m:\u001b[0m\u001b[0;34m\u001b[0m\u001b[0;34m\u001b[0m\u001b[0m\n\u001b[0m\u001b[1;32m      5\u001b[0m     \u001b[0mX_train\u001b[0m\u001b[0;34m,\u001b[0m \u001b[0mX_test\u001b[0m \u001b[0;34m=\u001b[0m \u001b[0mX\u001b[0m\u001b[0;34m[\u001b[0m\u001b[0mtrain_index\u001b[0m\u001b[0;34m]\u001b[0m\u001b[0;34m,\u001b[0m \u001b[0mX\u001b[0m\u001b[0;34m[\u001b[0m\u001b[0mtest_index\u001b[0m\u001b[0;34m]\u001b[0m\u001b[0;34m\u001b[0m\u001b[0;34m\u001b[0m\u001b[0m\n\u001b[1;32m      6\u001b[0m     \u001b[0my_train\u001b[0m\u001b[0;34m,\u001b[0m \u001b[0my_test\u001b[0m \u001b[0;34m=\u001b[0m \u001b[0my\u001b[0m\u001b[0;34m[\u001b[0m\u001b[0mtrain_index\u001b[0m\u001b[0;34m]\u001b[0m\u001b[0;34m,\u001b[0m \u001b[0my\u001b[0m\u001b[0;34m[\u001b[0m\u001b[0mtest_index\u001b[0m\u001b[0;34m]\u001b[0m\u001b[0;34m\u001b[0m\u001b[0;34m\u001b[0m\u001b[0m\n",
            "\u001b[0;31mNameError\u001b[0m: name 'cv' is not defined"
          ]
        }
      ],
      "source": [
        "f1_scores = []\n",
        "\n",
        "# Perform k-fold stratified cross-validation\n",
        "for train_index, test_index in cv.split(X, y):\n",
        "    X_train, X_test = X[train_index], X[test_index]\n",
        "    y_train, y_test = y[train_index], y[test_index]\n",
        "\n",
        "    # Necessary code to compute the predictions using your classifier..\n",
        "    #...\n",
        "    # y_pred = ...\n",
        "\n",
        "    # Compute the weighted-average F1-score for this fold\n",
        "    fold_f1_score = f1_score(y_test, y_pred, average='weighted')\n",
        "    f1_scores.append(fold_f1_score)\n",
        "\n",
        "# Calculate the mean F1-score across all folds\n",
        "mean_weighted_f1_score = np.mean(f1_scores)\n",
        "print(\"Mean weighted-average F1-score across\", k, \"folds:\", mean_weighted_f1_score)"
      ]
    },
    {
      "cell_type": "markdown",
      "id": "c3801574",
      "metadata": {
        "id": "c3801574"
      },
      "source": [
        "### Submissions"
      ]
    },
    {
      "cell_type": "markdown",
      "id": "184c3d75",
      "metadata": {
        "id": "184c3d75"
      },
      "source": [
        "\n",
        "After training your models with the data in _train.csv_, use the given _test.csv_ data for your predictions (predicted 'type' values); save it as csv file, and upload it to the Kaggle competition. Furthermore, you are supposed to upload your coding in Jupyter notebook to the department's submission system.\n",
        "\n",
        "Kaggle competition for logistic regression: https://www.kaggle.com/t/1aad2bcbe8c14b80918ec67ef7041c9b\n",
        "\n",
        "Kaggle competition for support vector machine: https://www.kaggle.com/t/f4f6aee930674ea3a86aada32d861cfa\n",
        "\n",
        "**Due Date**: 30.04.2023\n",
        "\n",
        "**Note**: The late submission rules previously announced from the piazza apply."
      ]
    },
    {
      "cell_type": "markdown",
      "id": "16a5f68b",
      "metadata": {
        "id": "16a5f68b"
      },
      "source": [
        "### Assignment\n",
        "\n",
        "In this assignment, you are given a dataset comprising information about dinosaurs. You will use logistic regression and support vector machine models to predict the type of dinosaur based on the provided information. In this assignment, you may utilize built-in libraries. Employ _stratified k-fold cross-validation_ (CV) with 10 folds for evaluating the classification models. Stratification ensures that each CV fold maintains a similar distribution of class examples as the entire training set. You can design various experiments by selecting some/all information provided in the dataset. Here, we expect the best result you obtained after these experiments and observations. Please explicitly mention your feature selection method in your report while presenting results.\n"
      ]
    },
    {
      "cell_type": "markdown",
      "id": "7c504cca",
      "metadata": {
        "id": "7c504cca"
      },
      "source": [
        "### Your Work"
      ]
    },
    {
      "cell_type": "code",
      "execution_count": null,
      "id": "bfcf33e3",
      "metadata": {
        "id": "bfcf33e3"
      },
      "outputs": [],
      "source": [
        "#Include your codes below by including as many cells as necessary to clearly demonstrate your work\n",
        "#Please write your codes in separate sections for data pre-processing, Logistic Regression and SVM models etc.\n",
        "\n"
      ]
    },
    {
      "cell_type": "markdown",
      "source": [
        "### Upload data"
      ],
      "metadata": {
        "id": "b_pL4dXENVyj"
      },
      "id": "b_pL4dXENVyj"
    },
    {
      "cell_type": "code",
      "source": [
        "import pandas as pd\n",
        "from sklearn.model_selection import train_test_split\n",
        "from sklearn.linear_model import LogisticRegression\n",
        "from sklearn.model_selection import StratifiedKFold\n",
        "from sklearn.svm import SVC\n",
        "from sklearn.metrics import accuracy_score\n",
        "import itertools\n",
        "import warnings\n",
        "warnings.filterwarnings(\"ignore\")\n",
        "\n",
        "data = pd.read_csv('train.csv')\n",
        "data_clone = data.copy()\n"
      ],
      "metadata": {
        "id": "4-kwOf6RNccY"
      },
      "id": "4-kwOf6RNccY",
      "execution_count": null,
      "outputs": []
    },
    {
      "cell_type": "markdown",
      "source": [
        "### Data Pre-Processing"
      ],
      "metadata": {
        "id": "k7SvI5EcM-sr"
      },
      "id": "k7SvI5EcM-sr"
    },
    {
      "cell_type": "code",
      "source": [
        "print(data.columns.tolist())\n",
        "\n",
        "print(pd.get_dummies(data[['species']]).shape)                                  #unique bundan hic olmaz----\n",
        "print(pd.get_dummies(data[['taxonomy']]).shape)                                 #looks like unique but we may work on it\n",
        "print(pd.get_dummies(data[['lived_in']]).shape)                                 #good\n",
        "print(pd.get_dummies(data[['diet']]).shape)                                     #good\n",
        "print(pd.get_dummies(data[['length']]).shape)                                   #good\n",
        "print(pd.get_dummies(data[['period']]).shape)                                   #looks like unique but we may work on it\n",
        "print(pd.get_dummies(data[['name']]).shape)                                     #unique bundan da hic olmaz----\n",
        "\n",
        "print(pd.get_dummies(data[['type']]).shape)                                     #target"
      ],
      "metadata": {
        "colab": {
          "base_uri": "https://localhost:8080/"
        },
        "id": "1os79lGOV8F0",
        "outputId": "e69f5072-648b-4ecf-d809-afaab0e3b3e1"
      },
      "id": "1os79lGOV8F0",
      "execution_count": null,
      "outputs": [
        {
          "output_type": "stream",
          "name": "stdout",
          "text": [
            "['id', 'name', 'diet', 'period', 'lived_in', 'type', 'length', 'taxonomy', 'named_by', 'species', 'link']\n",
            "(246, 224)\n",
            "(246, 92)\n",
            "(246, 30)\n",
            "(246, 4)\n",
            "(246, 64)\n",
            "(246, 127)\n",
            "(246, 246)\n",
            "(246, 6)\n"
          ]
        }
      ]
    },
    {
      "cell_type": "code",
      "source": [
        "data_clone = data_clone.drop('link', axis=1)\n",
        "data_clone = data_clone.drop('species', axis=1)\n",
        "data_clone = data_clone.drop('name', axis=1)\n",
        "data_clone = data_clone.drop('named_by', axis=1)\n",
        "data_clone = data_clone.drop('id', axis=1)"
      ],
      "metadata": {
        "id": "L4VgVLs2d5C4"
      },
      "id": "L4VgVLs2d5C4",
      "execution_count": null,
      "outputs": []
    },
    {
      "cell_type": "code",
      "source": [
        "print(data_clone.isnull().sum())\n",
        "data_clone['length'] = data_clone['length'].str.replace('m','').astype(float)   #length parametresini duzelt\n",
        "data_clone['length']"
      ],
      "metadata": {
        "colab": {
          "base_uri": "https://localhost:8080/"
        },
        "id": "PKOC7tMBOT4f",
        "outputId": "b558a1fb-f6bc-4e13-ed38-b4021c0ee983"
      },
      "id": "PKOC7tMBOT4f",
      "execution_count": null,
      "outputs": [
        {
          "output_type": "stream",
          "name": "stdout",
          "text": [
            "diet         0\n",
            "period       0\n",
            "lived_in     0\n",
            "type         0\n",
            "length      13\n",
            "taxonomy     0\n",
            "dtype: int64\n"
          ]
        },
        {
          "output_type": "execute_result",
          "data": {
            "text/plain": [
              "0        NaN\n",
              "1       5.15\n",
              "2      12.00\n",
              "3      21.00\n",
              "4      10.00\n",
              "       ...  \n",
              "241      NaN\n",
              "242     3.00\n",
              "243     0.80\n",
              "244     7.60\n",
              "245    12.00\n",
              "Name: length, Length: 246, dtype: float64"
            ]
          },
          "metadata": {},
          "execution_count": 4
        }
      ]
    },
    {
      "cell_type": "code",
      "source": [
        "# length in this part we fill null values with before nonnull value and it is not quite good technic.\n",
        "filled_data = data_clone.groupby('lived_in', group_keys=False).apply(lambda x: x.fillna({'length': x['length'].bfill()}))\n",
        "# So i decided to fill null values with mean of nonnull values of lived_in. So group by lived_in and fill length with its mean\n",
        "\n",
        "length_filled_data = data_clone.groupby('lived_in' , group_keys=False).apply(lambda x: x.fillna({'length': x['length'].fillna(x['length'].mean())}))\n",
        "data_clone['length'] = length_filled_data['length'].round().astype(int)\n",
        "\n",
        "# burda ise aynisini bu sefer lived_in verisinin meani ile dolduruyoruz\n",
        "# bu kod typelara gore guruplayip null length degerleri bir onceki degerle dolduruyor\n",
        "\n"
      ],
      "metadata": {
        "id": "O3vlCwM525Df"
      },
      "id": "O3vlCwM525Df",
      "execution_count": null,
      "outputs": []
    },
    {
      "cell_type": "code",
      "source": [
        "#period data has to be handled!!\n",
        "data_periodic = data_clone['period'].str.split(' ').str[0] +' ' +  data_clone['period'].str.split(' ').str[1]\n",
        "\n",
        "\n",
        "#time periodic data\n",
        "data_time_zone = data_clone['period'].str.split(' ').str[2].str.split('-').str[0] + ' ' +data_clone['period'].str.split(' ').str[2].str.split('-').str[1]\n",
        "\n",
        "droped_null_time_zone = data_clone['period'].str.split(' ').str[2].str.split('-')\n",
        "\n",
        "data_time_zone1 = round((droped_null_time_zone.str[0].astype(float).fillna(0)).astype(int), -1)\n",
        "data_time_zone2 =  round((droped_null_time_zone.str[1].astype(float).fillna(0)).astype(int), -1)\n",
        "\n",
        "data_time_zone[data_time_zone2 != 0] = (data_time_zone1 + data_time_zone2)//2\n",
        "data_time_zone[data_time_zone2 == 0] = data_time_zone1\n",
        "\n",
        "data_clone['period'] = data_time_zone\n",
        "\n",
        "grouped_mean = (((data_clone.groupby(data_periodic)['period'].mean()).astype(int)/5).round() *5).astype(int)\n",
        "\n",
        "mask = (data_clone['period'] == 0)\n",
        "indices = data_clone.loc[mask].index\n",
        "data_clone.loc[indices, 'period'] = grouped_mean[data.loc[indices, 'period']].values\n",
        "\n",
        "data_clone['period_name'] = data_periodic\n",
        "\n",
        "data_clone\n",
        "#period is good now"
      ],
      "metadata": {
        "colab": {
          "base_uri": "https://localhost:8080/",
          "height": 423
        },
        "id": "2srXe1yFWhXp",
        "outputId": "cad4c28c-6546-4023-e325-43d3bcbbd8a1"
      },
      "id": "2srXe1yFWhXp",
      "execution_count": null,
      "outputs": [
        {
          "output_type": "execute_result",
          "data": {
            "text/plain": [
              "                       diet period        lived_in               type  length  \\\n",
              "0               carnivorous    215  United Kingdom     small theropod       7   \n",
              "1    herbivorous/omnivorous    215       Argentina           sauropod       5   \n",
              "2               herbivorous     75           China       euornithopod      12   \n",
              "3               herbivorous     65             USA           sauropod      21   \n",
              "4               herbivorous    125  United Kingdom       euornithopod      10   \n",
              "..                      ...    ...             ...                ...     ...   \n",
              "241             herbivorous    110        Mongolia  armoured dinosaur       4   \n",
              "242             herbivorous    110       Australia       euornithopod       3   \n",
              "243             carnivorous    120           China     small theropod       1   \n",
              "244             carnivorous     70       Argentina     large theropod       8   \n",
              "245              omnivorous    225    South Africa           sauropod      12   \n",
              "\n",
              "                                              taxonomy       period_name  \n",
              "0                                           Dinosauria     Late Triassic  \n",
              "1    Dinosauria Saurischia Sauropodomorpha Prosauro...     Late Triassic  \n",
              "2    Dinosauria Ornithischia Genasauria Cerapoda Or...   Late Cretaceous  \n",
              "3    Dinosauria Saurischia Sauropodomorpha Sauropod...   Late Cretaceous  \n",
              "4    Dinosauria Ornithischia Genasauria Cerapoda Or...  Early Cretaceous  \n",
              "..                                                 ...               ...  \n",
              "241  Dinosauria Ornithischia Genasauria Thyreophora...  Early Cretaceous  \n",
              "242  Dinosauria Ornithischia Genasauria Cerapoda Or...  Early Cretaceous  \n",
              "243  Dinosauria Saurischia Theropoda Neotheropoda T...  Early Cretaceous  \n",
              "244  Dinosauria Saurischia Theropoda Neotheropoda C...   Late Cretaceous  \n",
              "245  Dinosauria Saurischia Sauropodomorpha Prosauro...     Late Triassic  \n",
              "\n",
              "[246 rows x 7 columns]"
            ],
            "text/html": [
              "\n",
              "  <div id=\"df-d439fa1d-ae97-4fc7-b219-b95ea76a5824\">\n",
              "    <div class=\"colab-df-container\">\n",
              "      <div>\n",
              "<style scoped>\n",
              "    .dataframe tbody tr th:only-of-type {\n",
              "        vertical-align: middle;\n",
              "    }\n",
              "\n",
              "    .dataframe tbody tr th {\n",
              "        vertical-align: top;\n",
              "    }\n",
              "\n",
              "    .dataframe thead th {\n",
              "        text-align: right;\n",
              "    }\n",
              "</style>\n",
              "<table border=\"1\" class=\"dataframe\">\n",
              "  <thead>\n",
              "    <tr style=\"text-align: right;\">\n",
              "      <th></th>\n",
              "      <th>diet</th>\n",
              "      <th>period</th>\n",
              "      <th>lived_in</th>\n",
              "      <th>type</th>\n",
              "      <th>length</th>\n",
              "      <th>taxonomy</th>\n",
              "      <th>period_name</th>\n",
              "    </tr>\n",
              "  </thead>\n",
              "  <tbody>\n",
              "    <tr>\n",
              "      <th>0</th>\n",
              "      <td>carnivorous</td>\n",
              "      <td>215</td>\n",
              "      <td>United Kingdom</td>\n",
              "      <td>small theropod</td>\n",
              "      <td>7</td>\n",
              "      <td>Dinosauria</td>\n",
              "      <td>Late Triassic</td>\n",
              "    </tr>\n",
              "    <tr>\n",
              "      <th>1</th>\n",
              "      <td>herbivorous/omnivorous</td>\n",
              "      <td>215</td>\n",
              "      <td>Argentina</td>\n",
              "      <td>sauropod</td>\n",
              "      <td>5</td>\n",
              "      <td>Dinosauria Saurischia Sauropodomorpha Prosauro...</td>\n",
              "      <td>Late Triassic</td>\n",
              "    </tr>\n",
              "    <tr>\n",
              "      <th>2</th>\n",
              "      <td>herbivorous</td>\n",
              "      <td>75</td>\n",
              "      <td>China</td>\n",
              "      <td>euornithopod</td>\n",
              "      <td>12</td>\n",
              "      <td>Dinosauria Ornithischia Genasauria Cerapoda Or...</td>\n",
              "      <td>Late Cretaceous</td>\n",
              "    </tr>\n",
              "    <tr>\n",
              "      <th>3</th>\n",
              "      <td>herbivorous</td>\n",
              "      <td>65</td>\n",
              "      <td>USA</td>\n",
              "      <td>sauropod</td>\n",
              "      <td>21</td>\n",
              "      <td>Dinosauria Saurischia Sauropodomorpha Sauropod...</td>\n",
              "      <td>Late Cretaceous</td>\n",
              "    </tr>\n",
              "    <tr>\n",
              "      <th>4</th>\n",
              "      <td>herbivorous</td>\n",
              "      <td>125</td>\n",
              "      <td>United Kingdom</td>\n",
              "      <td>euornithopod</td>\n",
              "      <td>10</td>\n",
              "      <td>Dinosauria Ornithischia Genasauria Cerapoda Or...</td>\n",
              "      <td>Early Cretaceous</td>\n",
              "    </tr>\n",
              "    <tr>\n",
              "      <th>...</th>\n",
              "      <td>...</td>\n",
              "      <td>...</td>\n",
              "      <td>...</td>\n",
              "      <td>...</td>\n",
              "      <td>...</td>\n",
              "      <td>...</td>\n",
              "      <td>...</td>\n",
              "    </tr>\n",
              "    <tr>\n",
              "      <th>241</th>\n",
              "      <td>herbivorous</td>\n",
              "      <td>110</td>\n",
              "      <td>Mongolia</td>\n",
              "      <td>armoured dinosaur</td>\n",
              "      <td>4</td>\n",
              "      <td>Dinosauria Ornithischia Genasauria Thyreophora...</td>\n",
              "      <td>Early Cretaceous</td>\n",
              "    </tr>\n",
              "    <tr>\n",
              "      <th>242</th>\n",
              "      <td>herbivorous</td>\n",
              "      <td>110</td>\n",
              "      <td>Australia</td>\n",
              "      <td>euornithopod</td>\n",
              "      <td>3</td>\n",
              "      <td>Dinosauria Ornithischia Genasauria Cerapoda Or...</td>\n",
              "      <td>Early Cretaceous</td>\n",
              "    </tr>\n",
              "    <tr>\n",
              "      <th>243</th>\n",
              "      <td>carnivorous</td>\n",
              "      <td>120</td>\n",
              "      <td>China</td>\n",
              "      <td>small theropod</td>\n",
              "      <td>1</td>\n",
              "      <td>Dinosauria Saurischia Theropoda Neotheropoda T...</td>\n",
              "      <td>Early Cretaceous</td>\n",
              "    </tr>\n",
              "    <tr>\n",
              "      <th>244</th>\n",
              "      <td>carnivorous</td>\n",
              "      <td>70</td>\n",
              "      <td>Argentina</td>\n",
              "      <td>large theropod</td>\n",
              "      <td>8</td>\n",
              "      <td>Dinosauria Saurischia Theropoda Neotheropoda C...</td>\n",
              "      <td>Late Cretaceous</td>\n",
              "    </tr>\n",
              "    <tr>\n",
              "      <th>245</th>\n",
              "      <td>omnivorous</td>\n",
              "      <td>225</td>\n",
              "      <td>South Africa</td>\n",
              "      <td>sauropod</td>\n",
              "      <td>12</td>\n",
              "      <td>Dinosauria Saurischia Sauropodomorpha Prosauro...</td>\n",
              "      <td>Late Triassic</td>\n",
              "    </tr>\n",
              "  </tbody>\n",
              "</table>\n",
              "<p>246 rows × 7 columns</p>\n",
              "</div>\n",
              "      <button class=\"colab-df-convert\" onclick=\"convertToInteractive('df-d439fa1d-ae97-4fc7-b219-b95ea76a5824')\"\n",
              "              title=\"Convert this dataframe to an interactive table.\"\n",
              "              style=\"display:none;\">\n",
              "        \n",
              "  <svg xmlns=\"http://www.w3.org/2000/svg\" height=\"24px\"viewBox=\"0 0 24 24\"\n",
              "       width=\"24px\">\n",
              "    <path d=\"M0 0h24v24H0V0z\" fill=\"none\"/>\n",
              "    <path d=\"M18.56 5.44l.94 2.06.94-2.06 2.06-.94-2.06-.94-.94-2.06-.94 2.06-2.06.94zm-11 1L8.5 8.5l.94-2.06 2.06-.94-2.06-.94L8.5 2.5l-.94 2.06-2.06.94zm10 10l.94 2.06.94-2.06 2.06-.94-2.06-.94-.94-2.06-.94 2.06-2.06.94z\"/><path d=\"M17.41 7.96l-1.37-1.37c-.4-.4-.92-.59-1.43-.59-.52 0-1.04.2-1.43.59L10.3 9.45l-7.72 7.72c-.78.78-.78 2.05 0 2.83L4 21.41c.39.39.9.59 1.41.59.51 0 1.02-.2 1.41-.59l7.78-7.78 2.81-2.81c.8-.78.8-2.07 0-2.86zM5.41 20L4 18.59l7.72-7.72 1.47 1.35L5.41 20z\"/>\n",
              "  </svg>\n",
              "      </button>\n",
              "      \n",
              "  <style>\n",
              "    .colab-df-container {\n",
              "      display:flex;\n",
              "      flex-wrap:wrap;\n",
              "      gap: 12px;\n",
              "    }\n",
              "\n",
              "    .colab-df-convert {\n",
              "      background-color: #E8F0FE;\n",
              "      border: none;\n",
              "      border-radius: 50%;\n",
              "      cursor: pointer;\n",
              "      display: none;\n",
              "      fill: #1967D2;\n",
              "      height: 32px;\n",
              "      padding: 0 0 0 0;\n",
              "      width: 32px;\n",
              "    }\n",
              "\n",
              "    .colab-df-convert:hover {\n",
              "      background-color: #E2EBFA;\n",
              "      box-shadow: 0px 1px 2px rgba(60, 64, 67, 0.3), 0px 1px 3px 1px rgba(60, 64, 67, 0.15);\n",
              "      fill: #174EA6;\n",
              "    }\n",
              "\n",
              "    [theme=dark] .colab-df-convert {\n",
              "      background-color: #3B4455;\n",
              "      fill: #D2E3FC;\n",
              "    }\n",
              "\n",
              "    [theme=dark] .colab-df-convert:hover {\n",
              "      background-color: #434B5C;\n",
              "      box-shadow: 0px 1px 3px 1px rgba(0, 0, 0, 0.15);\n",
              "      filter: drop-shadow(0px 1px 2px rgba(0, 0, 0, 0.3));\n",
              "      fill: #FFFFFF;\n",
              "    }\n",
              "  </style>\n",
              "\n",
              "      <script>\n",
              "        const buttonEl =\n",
              "          document.querySelector('#df-d439fa1d-ae97-4fc7-b219-b95ea76a5824 button.colab-df-convert');\n",
              "        buttonEl.style.display =\n",
              "          google.colab.kernel.accessAllowed ? 'block' : 'none';\n",
              "\n",
              "        async function convertToInteractive(key) {\n",
              "          const element = document.querySelector('#df-d439fa1d-ae97-4fc7-b219-b95ea76a5824');\n",
              "          const dataTable =\n",
              "            await google.colab.kernel.invokeFunction('convertToInteractive',\n",
              "                                                     [key], {});\n",
              "          if (!dataTable) return;\n",
              "\n",
              "          const docLinkHtml = 'Like what you see? Visit the ' +\n",
              "            '<a target=\"_blank\" href=https://colab.research.google.com/notebooks/data_table.ipynb>data table notebook</a>'\n",
              "            + ' to learn more about interactive tables.';\n",
              "          element.innerHTML = '';\n",
              "          dataTable['output_type'] = 'display_data';\n",
              "          await google.colab.output.renderOutput(dataTable, element);\n",
              "          const docLink = document.createElement('div');\n",
              "          docLink.innerHTML = docLinkHtml;\n",
              "          element.appendChild(docLink);\n",
              "        }\n",
              "      </script>\n",
              "    </div>\n",
              "  </div>\n",
              "  "
            ]
          },
          "metadata": {},
          "execution_count": 6
        }
      ]
    },
    {
      "cell_type": "code",
      "source": [
        "# taxonomy has to be handled\n",
        "taxonomy_data = (data_clone['taxonomy'].str.split(' ').str[0] + \" \" +data_clone['taxonomy'].str.split(' ').str[1] + \" \" +data_clone['taxonomy'].str.split(' ').str[2]+ \" \" +data_clone['taxonomy'].str.split(' ').str[3]).fillna(method='bfill')\n",
        "\n",
        "data_clone['taxonomy'] = taxonomy_data\n",
        "\n",
        "# sadece taxonomy verisinin ilk 4 kismini kullanacam ilk 4 kismi olmayan verileri bir onceki veri ile doldurudum"
      ],
      "metadata": {
        "id": "5HfRWK-6c0N9"
      },
      "id": "5HfRWK-6c0N9",
      "execution_count": null,
      "outputs": []
    },
    {
      "cell_type": "code",
      "source": [
        "print(data_clone.columns.to_list())\n",
        "print(data.columns.to_list())"
      ],
      "metadata": {
        "colab": {
          "base_uri": "https://localhost:8080/"
        },
        "id": "gcKL1v_D8coB",
        "outputId": "d331ae06-80dd-4db2-b299-9793b7e2d170"
      },
      "id": "gcKL1v_D8coB",
      "execution_count": null,
      "outputs": [
        {
          "output_type": "stream",
          "name": "stdout",
          "text": [
            "['diet', 'period', 'lived_in', 'type', 'length', 'taxonomy', 'period_name']\n",
            "['id', 'name', 'diet', 'period', 'lived_in', 'type', 'length', 'taxonomy', 'named_by', 'species', 'link']\n"
          ]
        }
      ]
    },
    {
      "cell_type": "code",
      "source": [
        "print('taxonomy', pd.get_dummies(data[['taxonomy']]).shape , pd.get_dummies(data_clone[['taxonomy']]).shape, sep=' ---> ')\n",
        "print('lived_in', pd.get_dummies(data[['lived_in']]).shape,(pd.get_dummies(data_clone[['lived_in']]).shape) , sep=' ---> ')\n",
        "print('diet', pd.get_dummies(data[['diet']]).shape,(pd.get_dummies(data_clone[['diet']]).shape)  , sep=' ---> ')\n",
        "print('length', pd.get_dummies(data[['length']]).shape,(pd.get_dummies(data_clone[['length']]).shape)  , sep=' ---> ')\n",
        "print('period', pd.get_dummies(data[['period']]).shape,(pd.get_dummies(data_clone[['period']]).shape)  , sep=' ---> ')\n",
        "\n",
        "print('new feature period_name ', pd.get_dummies(data_clone[['period_name']]).shape  , sep='---> ')\n",
        "\n",
        "print('target feature type ', pd.get_dummies(data_clone[['type']]).shape  , sep='---> ')"
      ],
      "metadata": {
        "colab": {
          "base_uri": "https://localhost:8080/"
        },
        "id": "hrFO78P6ejw-",
        "outputId": "8f32c0e4-2fa7-4a32-91f8-d14f67b0cb99"
      },
      "id": "hrFO78P6ejw-",
      "execution_count": null,
      "outputs": [
        {
          "output_type": "stream",
          "name": "stdout",
          "text": [
            "taxonomy ---> (246, 92) ---> (246, 6)\n",
            "lived_in ---> (246, 30) ---> (246, 30)\n",
            "diet ---> (246, 4) ---> (246, 4)\n",
            "length ---> (246, 64) ---> (246, 1)\n",
            "period ---> (246, 127) ---> (246, 34)\n",
            "new feature period_name ---> (246, 6)\n",
            "target feature type ---> (246, 6)\n"
          ]
        }
      ]
    },
    {
      "cell_type": "markdown",
      "source": [
        "### Test Data Preprocesing"
      ],
      "metadata": {
        "id": "5Cjl_PGBLaZh"
      },
      "id": "5Cjl_PGBLaZh"
    },
    {
      "cell_type": "code",
      "source": [
        "test_data = pd.read_csv('test.csv')\n",
        "\n",
        "features = ['id','diet', 'period', 'lived_in', 'length', 'taxonomy']\n",
        "target = 'type'\n",
        "\n",
        "test_copy = test_data[features]\n",
        "\n",
        "#fix the taxonomy parameter of test data\n",
        "taxonomy_data_test = (test_copy['taxonomy'].str.split(' ').str[0] + \" \" +test_copy['taxonomy'].str.split(' ').str[1] + \" \" +test_copy['taxonomy'].str.split(' ').str[2]+ \" \" +test_copy['taxonomy'].str.split(' ').str[3]).fillna(method='bfill')\n",
        "test_copy['taxonomy'] = taxonomy_data_test\n",
        "\n",
        "#fix the lived_in parameter of test data\n",
        "test_copy['lived_in'].fillna(test_copy['period'], inplace=True)\n",
        "\n",
        "#fix the period parameter of test data\n",
        "data_periodic_test = test_copy['period'].str.split(' ').str[0] +' ' +  test_copy['period'].str.split(' ').str[1]\n",
        "test_copy['period_name'] = data_periodic_test\n",
        "test_copy['period_name'] = test_copy.groupby('taxonomy')['period_name'].transform(lambda x: x.fillna(x.mode()[0]))\n",
        "\n",
        "data_time_zone_test = test_copy['period'].str.split(' ').str[2].str.split('-').str[0] + ' ' +test_copy['period'].str.split(' ').str[2].str.split('-').str[1]\n",
        "droped_null_time_zone = test_copy['period'].str.split(' ').str[2].str.split('-')\n",
        "data_time_zonex = round((droped_null_time_zone.str[0].astype(float).fillna(0)).astype(int), -1)\n",
        "data_time_zoney =  round((droped_null_time_zone.str[1].astype(float).fillna(0)).astype(int), -1)\n",
        "data_time_zone_test[data_time_zoney != 0] = (data_time_zonex + data_time_zoney)//2\n",
        "data_time_zone_test[data_time_zoney == 0] = data_time_zonex\n",
        "test_copy['period'] = data_time_zone_test\n",
        "grouped_mean_test = (((test_copy.groupby(data_periodic_test)['period'].mean()).astype(int)/5).round() *5).astype(int)\n",
        "mask = (test_copy['period'] == 0)\n",
        "indices = test_copy.loc[mask].index\n",
        "test_copy.loc[indices, 'period'] = grouped_mean_test[test_copy.loc[indices, 'period_name']].values\n",
        "test_copy['period_name'] = data_periodic_test\n",
        "\n",
        "#fix the length parameter of test data\n",
        "test_copy['length'] = test_copy['length'].str.replace('m','').astype(float)\n",
        "\n",
        "filled_test_copy =  test_copy.groupby('taxonomy' , group_keys=False).apply(lambda x: x.fillna({'length': x['length'].fillna(x['length'].mean())}))\n",
        "test_copy['length'] = filled_test_copy['length'].round()\n"
      ],
      "metadata": {
        "id": "awWlnRLSRRSj"
      },
      "id": "awWlnRLSRRSj",
      "execution_count": null,
      "outputs": []
    },
    {
      "cell_type": "markdown",
      "source": [
        "### Logistic Regression"
      ],
      "metadata": {
        "id": "xRa357SRNH_9"
      },
      "id": "xRa357SRNH_9"
    },
    {
      "cell_type": "code",
      "source": [
        "#test of features that is true combination for Logistic Regression\n",
        "features = ['diet', 'period', 'lived_in', 'length', 'taxonomy', 'period_name']\n",
        "target = 'type'\n",
        "\n",
        "X = data_clone[features]\n",
        "y = data_clone[target]\n",
        "\n",
        "biggest_subset = 0\n",
        "biggest_accuracy = 0\n",
        "for n_features in range(len(features), 0, -1):\n",
        "    for feature_comb in itertools.combinations(features, n_features):\n",
        "        X_comb = pd.get_dummies(X[list(feature_comb)])\n",
        "        #stratified k-fold cross-validation (CV) with 10 folds\n",
        "        skf = StratifiedKFold(n_splits=10, shuffle=True, random_state=10)\n",
        "        model = LogisticRegression()\n",
        "        acc_list = []\n",
        "        for train_idx, test_idx in skf.split(X_comb, y):\n",
        "            X_train, y_train = X_comb.iloc[train_idx], y.iloc[train_idx]\n",
        "            X_test, y_test = X_comb.iloc[test_idx], y.iloc[test_idx]\n",
        "            model.fit(X_train, y_train)\n",
        "            accuracy = model.score(X_test, y_test)\n",
        "            acc_list.append(accuracy)\n",
        "        avg_accuracy = sum(acc_list) / len(acc_list)\n",
        "        if biggest_accuracy < avg_accuracy:\n",
        "            biggest_accuracy = avg_accuracy\n",
        "            biggest_subset = feature_comb\n",
        "        #print(f\"Features: {list(feature_comb)}, Mean Accuracy: {sum(acc_list)/len(acc_list):.3f}\")\n",
        "print(f\"Features: {biggest_subset} - Average Accuracy: {biggest_accuracy}\")"
      ],
      "metadata": {
        "colab": {
          "base_uri": "https://localhost:8080/"
        },
        "id": "EugacFFuA92E",
        "outputId": "535bb8e3-ca9a-4ee4-b421-c5e092f58db8"
      },
      "id": "EugacFFuA92E",
      "execution_count": null,
      "outputs": [
        {
          "output_type": "stream",
          "name": "stdout",
          "text": [
            "Features: ('diet', 'period', 'lived_in', 'length', 'taxonomy') - Average Accuracy: 0.866\n"
          ]
        }
      ]
    },
    {
      "cell_type": "code",
      "source": [
        "test_copy[['diet', 'period', 'lived_in', 'length', 'taxonomy']].isnull().sum()\n",
        "\n",
        "test_clone_for_lr = test_copy[['id','diet', 'period', 'lived_in', 'length', 'taxonomy']]\n",
        "\n",
        "features = ['diet', 'period', 'lived_in', 'length', 'taxonomy']\n",
        "target = 'type'\n",
        "\n",
        "X = data_clone[features]\n",
        "y = data_clone[target]\n",
        "\n",
        "X_test = pd.get_dummies(test_clone_for_lr[features])\n",
        "X_comb = pd.get_dummies(X)\n",
        "\n",
        "test_copy_encoded = pd.get_dummies(test_clone_for_lr[features])\n",
        "X_test = test_copy_encoded.reindex(columns = X_comb.columns, fill_value=0)\n",
        "\n",
        "model = LogisticRegression()\n",
        "model.fit(X_comb.values, y.values)\n",
        "\n",
        "accuracy = model.score(X_comb, y)\n",
        "print(f\"Accuracy for trained data: {accuracy:.3f}\")\n",
        "\n",
        "y_pred = model.predict(X_test)\n",
        "\n",
        "test_clone_for_lr[target] = y_pred\n",
        "\n",
        "test_clone_for_lr[['id','diet', 'period', 'lived_in', 'length', 'taxonomy', 'type']].info()"
      ],
      "metadata": {
        "colab": {
          "base_uri": "https://localhost:8080/"
        },
        "id": "-zaO-xwyLqi8",
        "outputId": "96a7ec2f-2aa1-4ba3-f5c3-0b80bc0866d0"
      },
      "id": "-zaO-xwyLqi8",
      "execution_count": null,
      "outputs": [
        {
          "output_type": "stream",
          "name": "stdout",
          "text": [
            "Accuracy for trained data: 0.943\n",
            "<class 'pandas.core.frame.DataFrame'>\n",
            "RangeIndex: 62 entries, 0 to 61\n",
            "Data columns (total 7 columns):\n",
            " #   Column    Non-Null Count  Dtype  \n",
            "---  ------    --------------  -----  \n",
            " 0   id        62 non-null     int64  \n",
            " 1   diet      62 non-null     object \n",
            " 2   period    62 non-null     object \n",
            " 3   lived_in  62 non-null     object \n",
            " 4   length    62 non-null     float64\n",
            " 5   taxonomy  62 non-null     object \n",
            " 6   type      62 non-null     object \n",
            "dtypes: float64(1), int64(1), object(5)\n",
            "memory usage: 3.5+ KB\n"
          ]
        }
      ]
    },
    {
      "cell_type": "code",
      "source": [
        "lr_predicts = pd.DataFrame(test_clone_for_lr[['id', 'type']])\n",
        "lr_predicts.columns = ['id', 'type']\n",
        "\n",
        "lr_predicts.to_csv('prediction_lr.csv', index=False)"
      ],
      "metadata": {
        "id": "erXNxa8fURS3"
      },
      "id": "erXNxa8fURS3",
      "execution_count": null,
      "outputs": []
    },
    {
      "cell_type": "markdown",
      "source": [
        "### Support Vector Machine"
      ],
      "metadata": {
        "id": "bZmlH2CyRPiA"
      },
      "id": "bZmlH2CyRPiA"
    },
    {
      "cell_type": "code",
      "source": [
        "#test of features that is true combination for Support Vector Machine\n",
        "\n",
        "features = ['diet', 'period', 'lived_in', 'length', 'taxonomy', 'period_name']\n",
        "target = 'type'\n",
        "\n",
        "X = data_clone[features]\n",
        "y = data_clone[target]\n",
        "\n",
        "biggest_subset = itertools.combinations(features, 1)\n",
        "biggest_accuracy = 0\n",
        "for i in range(len(features), 0, -1):\n",
        "    for subset in itertools.combinations(features, i):\n",
        "        X_sub = pd.get_dummies(X[list(subset)])\n",
        "        #stratified k-fold cross-validation (CV) with 10 folds\n",
        "        skf = StratifiedKFold(n_splits=10, shuffle=True, random_state=10)\n",
        "        model = SVC(kernel='rbf')\n",
        "        accuracy_list = []\n",
        "        for train_idx, test_idx in skf.split(X_sub, y):\n",
        "            X_train, y_train = X_sub.iloc[train_idx], y.iloc[train_idx]\n",
        "            X_test, y_test = X_sub.iloc[test_idx], y.iloc[test_idx]\n",
        "            model.fit(X_train, y_train)\n",
        "            y_pred = model.predict(X_test)\n",
        "            accuracy = accuracy_score(y_test, y_pred)\n",
        "            accuracy_list.append(accuracy)\n",
        "        avg_accuracy = sum(accuracy_list) / len(accuracy_list)\n",
        "        if biggest_accuracy < avg_accuracy:\n",
        "          biggest_accuracy = avg_accuracy\n",
        "          biggest_subset = subset\n",
        "        #print(f\"Features: {subset} - Average Accuracy: {avg_accuracy}\")\n",
        "\n",
        "\n",
        "print(f\"Features: {biggest_subset} - Average Accuracy: {biggest_accuracy}\")"
      ],
      "metadata": {
        "colab": {
          "base_uri": "https://localhost:8080/"
        },
        "id": "yJjBAbjyCSWU",
        "outputId": "242040f4-3b1f-4a44-c745-8eb5804ebfbc"
      },
      "id": "yJjBAbjyCSWU",
      "execution_count": null,
      "outputs": [
        {
          "output_type": "stream",
          "name": "stdout",
          "text": [
            "Features: ('diet', 'lived_in', 'taxonomy') - Average Accuracy: 0.7679999999999999\n"
          ]
        }
      ]
    },
    {
      "cell_type": "code",
      "source": [
        "test_copy[['diet', 'period', 'lived_in', 'length', 'taxonomy']].isnull().sum()\n",
        "\n",
        "test_clone_for_svm = test_copy[['id', 'diet', 'period', 'lived_in', 'length', 'taxonomy']]\n",
        "\n",
        "features = ['diet', 'lived_in',  'taxonomy']\n",
        "target = 'type'\n",
        "\n",
        "X = data_clone[features]\n",
        "y = data_clone[target]\n",
        "\n",
        "X_test = pd.get_dummies(test_clone_for_svm[features])\n",
        "X_comb = pd.get_dummies(X)\n",
        "\n",
        "test_copy_encoded = pd.get_dummies(test_clone_for_svm[features])\n",
        "X_test = test_copy_encoded.reindex(columns = X_comb.columns, fill_value=0)\n",
        "\n",
        "model = SVC(kernel='rbf')\n",
        "model.fit(X_comb.values, y.values)\n",
        "\n",
        "accuracy = model.score(X_comb, y)\n",
        "print(f\"Accuracy for trained data: {accuracy:.3f}\")\n",
        "\n",
        "\n",
        "y_pred = model.predict(X_test)\n",
        "\n",
        "test_clone_for_svm[target] = y_pred\n",
        "\n",
        "test_clone_for_svm[['id', 'diet', 'lived_in',  'taxonomy', 'type']]"
      ],
      "metadata": {
        "id": "IzXFv3V_NLVw",
        "colab": {
          "base_uri": "https://localhost:8080/",
          "height": 442
        },
        "outputId": "a3105c86-6421-480f-90ff-92b78319f795"
      },
      "id": "IzXFv3V_NLVw",
      "execution_count": null,
      "outputs": [
        {
          "output_type": "stream",
          "name": "stdout",
          "text": [
            "Accuracy for trained data: 0.825\n"
          ]
        },
        {
          "output_type": "execute_result",
          "data": {
            "text/plain": [
              "    id         diet  lived_in  \\\n",
              "0    1  herbivorous   Romania   \n",
              "1    2  herbivorous       USA   \n",
              "2    3  carnivorous       USA   \n",
              "3    4  carnivorous       USA   \n",
              "4    5   omnivorous       USA   \n",
              "..  ..          ...       ...   \n",
              "57  58  herbivorous     China   \n",
              "58  59  herbivorous  Mongolia   \n",
              "59  60  carnivorous   Morocco   \n",
              "60  61  herbivorous    Canada   \n",
              "61  62  herbivorous    Canada   \n",
              "\n",
              "                                           taxonomy               type  \n",
              "0   Dinosauria Saurischia Sauropodomorpha Sauropoda           sauropod  \n",
              "1   Dinosauria Saurischia Sauropodomorpha Sauropoda           sauropod  \n",
              "2      Dinosauria Saurischia Theropoda Neotheropoda     large theropod  \n",
              "3      Dinosauria Saurischia Theropoda Neotheropoda     large theropod  \n",
              "4      Dinosauria Saurischia Theropoda Neotheropoda     large theropod  \n",
              "..                                              ...                ...  \n",
              "57  Dinosauria Saurischia Sauropodomorpha Sauropoda           sauropod  \n",
              "58   Dinosauria Ornithischia Genasauria Thyreophora  armoured dinosaur  \n",
              "59     Dinosauria Saurischia Theropoda Neotheropoda     large theropod  \n",
              "60      Dinosauria Ornithischia Genasauria Cerapoda        ceratopsian  \n",
              "61      Dinosauria Ornithischia Genasauria Cerapoda        ceratopsian  \n",
              "\n",
              "[62 rows x 5 columns]"
            ],
            "text/html": [
              "\n",
              "  <div id=\"df-ed3d0603-10d1-465d-9923-84a21c15c26b\">\n",
              "    <div class=\"colab-df-container\">\n",
              "      <div>\n",
              "<style scoped>\n",
              "    .dataframe tbody tr th:only-of-type {\n",
              "        vertical-align: middle;\n",
              "    }\n",
              "\n",
              "    .dataframe tbody tr th {\n",
              "        vertical-align: top;\n",
              "    }\n",
              "\n",
              "    .dataframe thead th {\n",
              "        text-align: right;\n",
              "    }\n",
              "</style>\n",
              "<table border=\"1\" class=\"dataframe\">\n",
              "  <thead>\n",
              "    <tr style=\"text-align: right;\">\n",
              "      <th></th>\n",
              "      <th>id</th>\n",
              "      <th>diet</th>\n",
              "      <th>lived_in</th>\n",
              "      <th>taxonomy</th>\n",
              "      <th>type</th>\n",
              "    </tr>\n",
              "  </thead>\n",
              "  <tbody>\n",
              "    <tr>\n",
              "      <th>0</th>\n",
              "      <td>1</td>\n",
              "      <td>herbivorous</td>\n",
              "      <td>Romania</td>\n",
              "      <td>Dinosauria Saurischia Sauropodomorpha Sauropoda</td>\n",
              "      <td>sauropod</td>\n",
              "    </tr>\n",
              "    <tr>\n",
              "      <th>1</th>\n",
              "      <td>2</td>\n",
              "      <td>herbivorous</td>\n",
              "      <td>USA</td>\n",
              "      <td>Dinosauria Saurischia Sauropodomorpha Sauropoda</td>\n",
              "      <td>sauropod</td>\n",
              "    </tr>\n",
              "    <tr>\n",
              "      <th>2</th>\n",
              "      <td>3</td>\n",
              "      <td>carnivorous</td>\n",
              "      <td>USA</td>\n",
              "      <td>Dinosauria Saurischia Theropoda Neotheropoda</td>\n",
              "      <td>large theropod</td>\n",
              "    </tr>\n",
              "    <tr>\n",
              "      <th>3</th>\n",
              "      <td>4</td>\n",
              "      <td>carnivorous</td>\n",
              "      <td>USA</td>\n",
              "      <td>Dinosauria Saurischia Theropoda Neotheropoda</td>\n",
              "      <td>large theropod</td>\n",
              "    </tr>\n",
              "    <tr>\n",
              "      <th>4</th>\n",
              "      <td>5</td>\n",
              "      <td>omnivorous</td>\n",
              "      <td>USA</td>\n",
              "      <td>Dinosauria Saurischia Theropoda Neotheropoda</td>\n",
              "      <td>large theropod</td>\n",
              "    </tr>\n",
              "    <tr>\n",
              "      <th>...</th>\n",
              "      <td>...</td>\n",
              "      <td>...</td>\n",
              "      <td>...</td>\n",
              "      <td>...</td>\n",
              "      <td>...</td>\n",
              "    </tr>\n",
              "    <tr>\n",
              "      <th>57</th>\n",
              "      <td>58</td>\n",
              "      <td>herbivorous</td>\n",
              "      <td>China</td>\n",
              "      <td>Dinosauria Saurischia Sauropodomorpha Sauropoda</td>\n",
              "      <td>sauropod</td>\n",
              "    </tr>\n",
              "    <tr>\n",
              "      <th>58</th>\n",
              "      <td>59</td>\n",
              "      <td>herbivorous</td>\n",
              "      <td>Mongolia</td>\n",
              "      <td>Dinosauria Ornithischia Genasauria Thyreophora</td>\n",
              "      <td>armoured dinosaur</td>\n",
              "    </tr>\n",
              "    <tr>\n",
              "      <th>59</th>\n",
              "      <td>60</td>\n",
              "      <td>carnivorous</td>\n",
              "      <td>Morocco</td>\n",
              "      <td>Dinosauria Saurischia Theropoda Neotheropoda</td>\n",
              "      <td>large theropod</td>\n",
              "    </tr>\n",
              "    <tr>\n",
              "      <th>60</th>\n",
              "      <td>61</td>\n",
              "      <td>herbivorous</td>\n",
              "      <td>Canada</td>\n",
              "      <td>Dinosauria Ornithischia Genasauria Cerapoda</td>\n",
              "      <td>ceratopsian</td>\n",
              "    </tr>\n",
              "    <tr>\n",
              "      <th>61</th>\n",
              "      <td>62</td>\n",
              "      <td>herbivorous</td>\n",
              "      <td>Canada</td>\n",
              "      <td>Dinosauria Ornithischia Genasauria Cerapoda</td>\n",
              "      <td>ceratopsian</td>\n",
              "    </tr>\n",
              "  </tbody>\n",
              "</table>\n",
              "<p>62 rows × 5 columns</p>\n",
              "</div>\n",
              "      <button class=\"colab-df-convert\" onclick=\"convertToInteractive('df-ed3d0603-10d1-465d-9923-84a21c15c26b')\"\n",
              "              title=\"Convert this dataframe to an interactive table.\"\n",
              "              style=\"display:none;\">\n",
              "        \n",
              "  <svg xmlns=\"http://www.w3.org/2000/svg\" height=\"24px\"viewBox=\"0 0 24 24\"\n",
              "       width=\"24px\">\n",
              "    <path d=\"M0 0h24v24H0V0z\" fill=\"none\"/>\n",
              "    <path d=\"M18.56 5.44l.94 2.06.94-2.06 2.06-.94-2.06-.94-.94-2.06-.94 2.06-2.06.94zm-11 1L8.5 8.5l.94-2.06 2.06-.94-2.06-.94L8.5 2.5l-.94 2.06-2.06.94zm10 10l.94 2.06.94-2.06 2.06-.94-2.06-.94-.94-2.06-.94 2.06-2.06.94z\"/><path d=\"M17.41 7.96l-1.37-1.37c-.4-.4-.92-.59-1.43-.59-.52 0-1.04.2-1.43.59L10.3 9.45l-7.72 7.72c-.78.78-.78 2.05 0 2.83L4 21.41c.39.39.9.59 1.41.59.51 0 1.02-.2 1.41-.59l7.78-7.78 2.81-2.81c.8-.78.8-2.07 0-2.86zM5.41 20L4 18.59l7.72-7.72 1.47 1.35L5.41 20z\"/>\n",
              "  </svg>\n",
              "      </button>\n",
              "      \n",
              "  <style>\n",
              "    .colab-df-container {\n",
              "      display:flex;\n",
              "      flex-wrap:wrap;\n",
              "      gap: 12px;\n",
              "    }\n",
              "\n",
              "    .colab-df-convert {\n",
              "      background-color: #E8F0FE;\n",
              "      border: none;\n",
              "      border-radius: 50%;\n",
              "      cursor: pointer;\n",
              "      display: none;\n",
              "      fill: #1967D2;\n",
              "      height: 32px;\n",
              "      padding: 0 0 0 0;\n",
              "      width: 32px;\n",
              "    }\n",
              "\n",
              "    .colab-df-convert:hover {\n",
              "      background-color: #E2EBFA;\n",
              "      box-shadow: 0px 1px 2px rgba(60, 64, 67, 0.3), 0px 1px 3px 1px rgba(60, 64, 67, 0.15);\n",
              "      fill: #174EA6;\n",
              "    }\n",
              "\n",
              "    [theme=dark] .colab-df-convert {\n",
              "      background-color: #3B4455;\n",
              "      fill: #D2E3FC;\n",
              "    }\n",
              "\n",
              "    [theme=dark] .colab-df-convert:hover {\n",
              "      background-color: #434B5C;\n",
              "      box-shadow: 0px 1px 3px 1px rgba(0, 0, 0, 0.15);\n",
              "      filter: drop-shadow(0px 1px 2px rgba(0, 0, 0, 0.3));\n",
              "      fill: #FFFFFF;\n",
              "    }\n",
              "  </style>\n",
              "\n",
              "      <script>\n",
              "        const buttonEl =\n",
              "          document.querySelector('#df-ed3d0603-10d1-465d-9923-84a21c15c26b button.colab-df-convert');\n",
              "        buttonEl.style.display =\n",
              "          google.colab.kernel.accessAllowed ? 'block' : 'none';\n",
              "\n",
              "        async function convertToInteractive(key) {\n",
              "          const element = document.querySelector('#df-ed3d0603-10d1-465d-9923-84a21c15c26b');\n",
              "          const dataTable =\n",
              "            await google.colab.kernel.invokeFunction('convertToInteractive',\n",
              "                                                     [key], {});\n",
              "          if (!dataTable) return;\n",
              "\n",
              "          const docLinkHtml = 'Like what you see? Visit the ' +\n",
              "            '<a target=\"_blank\" href=https://colab.research.google.com/notebooks/data_table.ipynb>data table notebook</a>'\n",
              "            + ' to learn more about interactive tables.';\n",
              "          element.innerHTML = '';\n",
              "          dataTable['output_type'] = 'display_data';\n",
              "          await google.colab.output.renderOutput(dataTable, element);\n",
              "          const docLink = document.createElement('div');\n",
              "          docLink.innerHTML = docLinkHtml;\n",
              "          element.appendChild(docLink);\n",
              "        }\n",
              "      </script>\n",
              "    </div>\n",
              "  </div>\n",
              "  "
            ]
          },
          "metadata": {},
          "execution_count": 121
        }
      ]
    },
    {
      "cell_type": "code",
      "source": [
        "svm_predicts = pd.DataFrame(test_clone_for_svm[['id', 'type']])\n",
        "svm_predicts.columns = ['id', 'type']\n",
        "\n",
        "svm_predicts.to_csv('prediction_svm.csv', index=False)"
      ],
      "metadata": {
        "id": "WQvW5RRxS1dV"
      },
      "id": "WQvW5RRxS1dV",
      "execution_count": null,
      "outputs": []
    }
  ],
  "metadata": {
    "kernelspec": {
      "display_name": "Python 3",
      "language": "python",
      "name": "python3"
    },
    "language_info": {
      "codemirror_mode": {
        "name": "ipython",
        "version": 3
      },
      "file_extension": ".py",
      "mimetype": "text/x-python",
      "name": "python",
      "nbconvert_exporter": "python",
      "pygments_lexer": "ipython3",
      "version": "3.8.8"
    },
    "colab": {
      "provenance": []
    }
  },
  "nbformat": 4,
  "nbformat_minor": 5
}